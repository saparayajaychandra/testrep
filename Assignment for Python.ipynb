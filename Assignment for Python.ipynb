{
 "cells": [
  {
   "cell_type": "code",
   "execution_count": null,
   "metadata": {
    "id": "lEc1G18fTuYL"
   },
   "outputs": [],
   "source": [
    "1)Write a Python program to get the Python version you are using"
   ]
  },
  {
   "cell_type": "code",
   "execution_count": null,
   "metadata": {
    "id": "IsNBIMKfTuYM"
   },
   "outputs": [],
   "source": [
    "2)Write a Python program to display the current date and time"
   ]
  },
  {
   "cell_type": "code",
   "execution_count": null,
   "metadata": {
    "id": "GQ4L6a2TTuYN"
   },
   "outputs": [],
   "source": [
    "3) Write a Python program which accepts the radius of a circle from the user and compute the area."
   ]
  },
  {
   "cell_type": "code",
   "execution_count": null,
   "metadata": {
    "id": "6VKhAqj8TuYO"
   },
   "outputs": [],
   "source": [
    "4)Solve the expression. 5.2 + True + bool(-5) - 4 + 42//5 +bool(0) + False + int(5.9) + float('1')"
   ]
  },
  {
   "cell_type": "code",
   "execution_count": null,
   "metadata": {
    "id": "MU-GcAfwTuYO"
   },
   "outputs": [],
   "source": [
    "5)Write code to test whether the given number lies between 1 and 10"
   ]
  },
  {
   "cell_type": "code",
   "execution_count": null,
   "metadata": {
    "id": "LHraP9cgTuYP"
   },
   "outputs": [],
   "source": [
    "6)sum the numbers from 1 to 20 using for loop"
   ]
  },
  {
   "cell_type": "code",
   "execution_count": null,
   "metadata": {
    "id": "-Pba3W4iTuYP"
   },
   "outputs": [],
   "source": [
    "7)Display the numbers in reverse from 100 to 1"
   ]
  },
  {
   "cell_type": "code",
   "execution_count": null,
   "metadata": {
    "id": "fB5rb-IETuYP"
   },
   "outputs": [],
   "source": [
    "8)Display multiples of 2 from 10 to 50 using range"
   ]
  },
  {
   "cell_type": "code",
   "execution_count": null,
   "metadata": {
    "id": "FdZMrAkyTuYQ"
   },
   "outputs": [],
   "source": [
    "9)From the below nested dictionary, pick the word \"Bangalore\". \n",
    "d = {'1':'One','2':[1,{'Two':['Ch','Cbe','Salem',{'Place':[5,6,7,'Bangalore']}]}]}"
   ]
  },
  {
   "cell_type": "code",
   "execution_count": null,
   "metadata": {
    "id": "fsK2r2lITuYZ"
   },
   "outputs": [],
   "source": [
    "10)Use functions to return square of numbers from 2 to 5"
   ]
  },
  {
   "cell_type": "code",
   "execution_count": null,
   "metadata": {
    "id": "RwVix-tuTuYa"
   },
   "outputs": [],
   "source": [
    "11)Write a Python program which accepts a sequence of comma-separated numbers from user and generate a list and a \n",
    "tuple with those numbers"
   ]
  },
  {
   "cell_type": "code",
   "execution_count": null,
   "metadata": {
    "id": "c_Lz-EB2TuYa"
   },
   "outputs": [],
   "source": [
    "12) Write a Python program to display the first and last colors from the following list.\n",
    "color_list = [\"Red\",\"Green\",\"White\" ,\"Black\"]"
   ]
  },
  {
   "cell_type": "code",
   "execution_count": null,
   "metadata": {
    "id": "UxONxEt-TuYa"
   },
   "outputs": [],
   "source": [
    "13)Write a Python program to calculate number of days between two dates.\n",
    "Sample dates : (2014, 7, 2), (2014, 7, 11)"
   ]
  },
  {
   "cell_type": "code",
   "execution_count": null,
   "metadata": {
    "id": "Yrigd224TuYa"
   },
   "outputs": [],
   "source": [
    "14)Write a Python program to get the difference between a given number and 17,\n",
    "if the number is greater than 17 return double the absolute difference"
   ]
  },
  {
   "cell_type": "code",
   "execution_count": null,
   "metadata": {
    "id": "X6t4moSuTuYb"
   },
   "outputs": [],
   "source": [
    "15)To check whather given element exists in list or not??\n",
    "list=[1,2,3,4,5,6,7,8,9,10]\n",
    "check if 9 and 12 are present in given list or not"
   ]
  },
  {
   "cell_type": "code",
   "execution_count": null,
   "metadata": {
    "id": "4yzIbcIiTuYb"
   },
   "outputs": [],
   "source": [
    "16)Write a function calculation() such that it can accept two variables and calculate the addition and subtraction of it.\n",
    "And also it must return both addition and subtraction in a single return call"
   ]
  },
  {
   "cell_type": "code",
   "execution_count": null,
   "metadata": {
    "id": "6LY4_qgfTuYb"
   },
   "outputs": [],
   "source": [
    "17)Create a function showEmployee() in such a way that it should accept employee name, and it’s salary and display both,\n",
    "and if the salary is missing in function call it should show it as 9000"
   ]
  },
  {
   "cell_type": "code",
   "execution_count": null,
   "metadata": {
    "id": "GdpBegqkTuYc"
   },
   "outputs": [],
   "source": [
    "18) Write a recursive function to calculate the sum of numbers from 0 to 10"
   ]
  },
  {
   "cell_type": "code",
   "execution_count": null,
   "metadata": {
    "id": "7M-0x4QlTuYc"
   },
   "outputs": [],
   "source": [
    "19)Generate a Python list of all the even numbers between 4 to 30"
   ]
  },
  {
   "cell_type": "code",
   "execution_count": null,
   "metadata": {
    "id": "K6NuLuEqTuYc"
   },
   "outputs": [],
   "source": [
    "20)Return the largest item from the given list"
   ]
  },
  {
   "cell_type": "code",
   "execution_count": null,
   "metadata": {
    "id": "_DEcQovmqqFY"
   },
   "outputs": [],
   "source": [
    "21) Write a python code which takes an year as an argument and tells whether that year is leap or not ?"
   ]
  },
  {
   "cell_type": "code",
   "execution_count": null,
   "metadata": {
    "id": "Shm_EDwRrwoW"
   },
   "outputs": [],
   "source": [
    "22) write a python function which takes a string and returns True if the string is Palindrome. "
   ]
  },
  {
   "cell_type": "code",
   "execution_count": null,
   "metadata": {
    "id": "NIIY8E0itPLK"
   },
   "outputs": [],
   "source": [
    "23) Write a python program which takes a string as an argument and returns back the top three frequent characters."
   ]
  },
  {
   "cell_type": "code",
   "execution_count": null,
   "metadata": {
    "id": "XBaM-X6EvlgV"
   },
   "outputs": [],
   "source": [
    "24) Write a python program to find 5 most common/frequent words in the sentence"
   ]
  },
  {
   "cell_type": "code",
   "execution_count": null,
   "metadata": {
    "id": "T2Da0_7qv_hy"
   },
   "outputs": [],
   "source": [
    "25) Merge the two dictionaries together\n",
    "dict_1 = {\"Orange\":2,\"Papaya\":3}\n",
    "dict_2 = {\"guava\":3,'Muskmelon':4,\"Mango\":6}"
   ]
  }
 ],
 "metadata": {
  "colab": {
   "collapsed_sections": [],
   "name": "Assignment for Python.ipynb",
   "provenance": []
  },
  "kernelspec": {
   "display_name": "Python 3 (ipykernel)",
   "language": "python",
   "name": "python3"
  },
  "language_info": {
   "codemirror_mode": {
    "name": "ipython",
    "version": 3
   },
   "file_extension": ".py",
   "mimetype": "text/x-python",
   "name": "python",
   "nbconvert_exporter": "python",
   "pygments_lexer": "ipython3",
   "version": "3.9.7"
  }
 },
 "nbformat": 4,
 "nbformat_minor": 1
}
